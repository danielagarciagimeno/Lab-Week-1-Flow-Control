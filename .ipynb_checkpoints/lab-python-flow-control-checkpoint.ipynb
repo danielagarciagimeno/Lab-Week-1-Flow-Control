{
 "cells": [
  {
   "cell_type": "markdown",
   "id": "d3bfc191-8885-42ee-b0a0-bbab867c6f9f",
   "metadata": {
    "tags": []
   },
   "source": [
    "# Lab | Flow Control"
   ]
  },
  {
   "cell_type": "markdown",
   "id": "3851fcd1-cf98-4653-9c89-e003b7ec9400",
   "metadata": {},
   "source": [
    "## Exercise: Managing Customer Orders Optimized\n",
    "\n",
    "In the last lab, you were starting an online store that sells various products. To ensure smooth operations, you developed a program that manages customer orders and inventory.\n",
    "\n",
    "You did so without using flow control. Let's go a step further and improve this code.\n",
    "\n",
    "Follow the steps below to complete the exercise:\n",
    "\n",
    "1. Look at your code from the lab data structures, and improve repeated code with loops.\n",
    "\n",
    "2. Instead of asking the user to input the name of three products that a customer wants to order, do the following:\n",
    "    \n",
    "    a. Prompt the user to enter the name of a product that a customer wants to order.\n",
    "    \n",
    "    b. Add the product name to the \"customer_orders\" set.\n",
    "    \n",
    "    c. Ask the user if they want to add another product (yes/no).\n",
    "    \n",
    "    d. Continue the loop until the user does not want to add another product.\n",
    "\n",
    "3. Instead of updating the inventory by subtracting 1 from the quantity of each product, only do it for  the products that were ordered (those in \"customer_orders\")."
   ]
  },
  {
   "cell_type": "code",
   "execution_count": 16,
   "id": "8fcdea90-f7f9-4149-a950-94c259261ef5",
   "metadata": {},
   "outputs": [
    {
     "name": "stdin",
     "output_type": "stream",
     "text": [
      "Enter the quantity for t-shirt:  4\n",
      "Enter the quantity for mug:  4\n",
      "Enter the quantity for hat:  4\n",
      "Enter the quantity for book:  4\n",
      "Enter the quantity for keychain:  4\n"
     ]
    },
    {
     "name": "stdout",
     "output_type": "stream",
     "text": [
      "Inventory: {'t-shirt': 4, 'mug': 4, 'hat': 4, 'book': 4, 'keychain': 4}\n"
     ]
    }
   ],
   "source": [
    "products=[\"t-shirt\", \"mug\", \"hat\", \"book\", \"keychain\"]\n",
    "\n",
    "inventory={}\n",
    "\n",
    "for product in products:\n",
    "    quantity = int(input(f\"Enter the quantity for {product}: \"))\n",
    "    inventory[product] = quantity\n",
    "print(\"Inventory:\", inventory)\n",
    "\n",
    "customer_orders=set()\n"
   ]
  },
  {
   "cell_type": "code",
   "execution_count": 25,
   "id": "094f107b-d0ba-4fc7-b30f-3f3e18148425",
   "metadata": {},
   "outputs": [
    {
     "name": "stdin",
     "output_type": "stream",
     "text": [
      "Enter the name of a product to order (from t-shirt, mug, hat, book, keychain):  mug\n"
     ]
    },
    {
     "name": "stdout",
     "output_type": "stream",
     "text": [
      "mug has been added to your order.\n"
     ]
    },
    {
     "name": "stdin",
     "output_type": "stream",
     "text": [
      "Do you want to add another product? (yes/no):  yes\n",
      "Enter the name of a product to order (from t-shirt, mug, hat, book, keychain):  hat\n"
     ]
    },
    {
     "name": "stdout",
     "output_type": "stream",
     "text": [
      "hat has been added to your order.\n"
     ]
    },
    {
     "name": "stdin",
     "output_type": "stream",
     "text": [
      "Do you want to add another product? (yes/no):  no\n"
     ]
    },
    {
     "name": "stdout",
     "output_type": "stream",
     "text": [
      "Customer orders: {'mug', 'hat'}\n"
     ]
    }
   ],
   "source": [
    "def add_customer_orders():\n",
    "    while True:\n",
    "        product = input(\"Enter the name of a product to order (from t-shirt, mug, hat, book, keychain): \").strip().lower()\n",
    "        if product in products:\n",
    "            customer_orders.add(product)\n",
    "            print(f\"{product} has been added to your order.\")\n",
    "        else:\n",
    "            print(f\"{product} is not a valid product. Please choose from the list: {products}\")\n",
    "        \n",
    "        another_product = input(\"Do you want to add another product? (yes/no): \").strip().lower()\n",
    "        if another_product != \"yes\":\n",
    "            break\n",
    "    \n",
    "    print(\"Customer orders:\", customer_orders)\n",
    "\n",
    "add_customer_orders()"
   ]
  },
  {
   "cell_type": "code",
   "execution_count": 27,
   "id": "269f3928-b2f0-481d-8b03-1b2e176de808",
   "metadata": {},
   "outputs": [
    {
     "name": "stdout",
     "output_type": "stream",
     "text": [
      "Inventory: {'t-shirt': 4, 'mug': 2, 'hat': 2, 'book': 4, 'keychain': 4}\n"
     ]
    }
   ],
   "source": [
    "for product in customer_orders:\n",
    "    inventory[product] = inventory[product]-1\n",
    "print(\"Inventory:\", inventory)"
   ]
  }
 ],
 "metadata": {
  "kernelspec": {
   "display_name": "Python 3 (ipykernel)",
   "language": "python",
   "name": "python3"
  },
  "language_info": {
   "codemirror_mode": {
    "name": "ipython",
    "version": 3
   },
   "file_extension": ".py",
   "mimetype": "text/x-python",
   "name": "python",
   "nbconvert_exporter": "python",
   "pygments_lexer": "ipython3",
   "version": "3.12.4"
  }
 },
 "nbformat": 4,
 "nbformat_minor": 5
}
